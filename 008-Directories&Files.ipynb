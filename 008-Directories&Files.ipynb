{
 "cells": [
  {
   "cell_type": "code",
   "execution_count": 2,
   "metadata": {},
   "outputs": [],
   "source": [
    "file_object = open(\"myfile.txt\", \"w\")\n",
    "file_object.write(\"City \\n\")\n",
    "file_object.close()"
   ]
  },
  {
   "cell_type": "code",
   "execution_count": 3,
   "metadata": {},
   "outputs": [],
   "source": [
    "file_object = open(\"myfile.txt\", \"w\")\n",
    "L = [\"Yangon \\n\", \"Mandalay \\n\", \"Pyay \\n\"]\n",
    "file_object.write(\"City \\n\")\n",
    "file_object.writelines(L)\n",
    "file_object.close()"
   ]
  },
  {
   "cell_type": "code",
   "execution_count": 4,
   "metadata": {},
   "outputs": [],
   "source": [
    "file_object = open(\"myfile.txt\", \"a\")\n",
    "file_object.write(\"Bago \\n\")\n",
    "file_object.write(\"Naypyitaw \\n\")\n",
    "file_object.close()"
   ]
  },
  {
   "cell_type": "code",
   "execution_count": 5,
   "metadata": {},
   "outputs": [
    {
     "name": "stdout",
     "output_type": "stream",
     "text": [
      "City \n",
      "Yangon \n",
      "Mandalay \n",
      "Pyay \n",
      "Bago \n",
      "Naypyitaw \n",
      "\n"
     ]
    }
   ],
   "source": [
    "file_object = open(\"myfile.txt\", \"r\")\n",
    "print(file_object.read())\n",
    "file_object.close()"
   ]
  },
  {
   "cell_type": "code",
   "execution_count": 6,
   "metadata": {},
   "outputs": [
    {
     "name": "stdout",
     "output_type": "stream",
     "text": [
      "Ci\n"
     ]
    }
   ],
   "source": [
    "file_object = open(\"myfile.txt\", \"r\")\n",
    "print(file_object.read(2))\n",
    "file_object.close()"
   ]
  },
  {
   "cell_type": "code",
   "execution_count": 7,
   "metadata": {},
   "outputs": [
    {
     "name": "stdout",
     "output_type": "stream",
     "text": [
      "['City \\n', 'Yangon \\n', 'Mandalay \\n', 'Pyay \\n', 'Bago \\n', 'Naypyitaw \\n']\n"
     ]
    }
   ],
   "source": [
    "file_object = open(\"myfile.txt\", \"r\")\n",
    "print(file_object.readlines())\n",
    "file_object.close()"
   ]
  },
  {
   "cell_type": "code",
   "execution_count": 8,
   "metadata": {},
   "outputs": [
    {
     "name": "stdout",
     "output_type": "stream",
     "text": [
      "City \n",
      "\n"
     ]
    }
   ],
   "source": [
    "file_object = open(\"myfile.txt\", \"r\")\n",
    "print(file_object.readline())\n",
    "file_object.close()"
   ]
  },
  {
   "cell_type": "code",
   "execution_count": 9,
   "metadata": {},
   "outputs": [
    {
     "name": "stdout",
     "output_type": "stream",
     "text": [
      "City \n",
      "Yangon \n",
      "Mandalay \n",
      "Pyay \n",
      "\n"
     ]
    }
   ],
   "source": [
    "file_object = open(\"myfile.txt\", \"w+\")\n",
    "L = [\"Yangon \\n\", \"Mandalay \\n\", \"Pyay \\n\"]\n",
    "file_object.write(\"City \\n\")\n",
    "file_object.writelines(L)\n",
    "file_object.seek(0)\n",
    "print(file_object.read())\n",
    "file_object.close()"
   ]
  },
  {
   "cell_type": "code",
   "execution_count": 10,
   "metadata": {},
   "outputs": [
    {
     "name": "stdout",
     "output_type": "stream",
     "text": [
      "City \n",
      "Yangon \n",
      "Mandalay \n",
      "Pyay \n",
      "\n"
     ]
    }
   ],
   "source": [
    "file_object = open(\"myfile.txt\", \"r+\")\n",
    "print(file_object.read())\n",
    "L = [\"Yangon \\n\", \"Mandalay \\n\", \"Pyay \\n\"]\n",
    "file_object.write(\"City \\n\")\n",
    "file_object.writelines(L)\n",
    "file_object.close()"
   ]
  },
  {
   "cell_type": "code",
   "execution_count": null,
   "metadata": {},
   "outputs": [],
   "source": []
  }
 ],
 "metadata": {
  "kernelspec": {
   "display_name": "Python 3",
   "language": "python",
   "name": "python3"
  },
  "language_info": {
   "codemirror_mode": {
    "name": "ipython",
    "version": 3
   },
   "file_extension": ".py",
   "mimetype": "text/x-python",
   "name": "python",
   "nbconvert_exporter": "python",
   "pygments_lexer": "ipython3",
   "version": "3.8.10"
  }
 },
 "nbformat": 4,
 "nbformat_minor": 4
}
