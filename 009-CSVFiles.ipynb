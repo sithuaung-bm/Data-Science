{
 "cells": [
  {
   "cell_type": "code",
   "execution_count": 3,
   "metadata": {},
   "outputs": [
    {
     "name": "stdout",
     "output_type": "stream",
     "text": [
      "<_csv.reader object at 0x7f3ecc112190>\n",
      "['Name', ' Department', ' Salary']\n",
      "[['Aung Aung', ' Engineering', ' 5000'], ['Daniel', ' Finance', ' 4000'], ['Steven', ' IT', ' 8000'], ['John', ' HR', ' 3000']]\n"
     ]
    }
   ],
   "source": [
    "import csv\n",
    "rows = []\n",
    "with open('xyz_ltd.csv') as csv_file:\n",
    "    csv_reader = csv.reader(csv_file)\n",
    "    fields = next(csv_reader)\n",
    "    for row in csv_reader:\n",
    "        rows.append(row)\n",
    "print(csv_reader)\n",
    "print(fields)\n",
    "print(rows)"
   ]
  },
  {
   "cell_type": "code",
   "execution_count": 4,
   "metadata": {},
   "outputs": [
    {
     "name": "stdout",
     "output_type": "stream",
     "text": [
      "['Aung Aung', ' Engineering', ' 5000']\n",
      "['Daniel', ' Finance', ' 4000']\n",
      "['Steven', ' IT', ' 8000']\n",
      "['John', ' HR', ' 3000']\n"
     ]
    }
   ],
   "source": [
    "for r in rows:\n",
    "    print(r)"
   ]
  },
  {
   "cell_type": "code",
   "execution_count": 5,
   "metadata": {},
   "outputs": [
    {
     "name": "stdout",
     "output_type": "stream",
     "text": [
      "Aung Aung  Engineering  5000\n",
      "Daniel  Finance  4000\n",
      "Steven  IT  8000\n",
      "John  HR  3000\n"
     ]
    }
   ],
   "source": [
    "for r in rows:\n",
    "    print(r[0], r[1], r[2])"
   ]
  },
  {
   "cell_type": "code",
   "execution_count": 8,
   "metadata": {},
   "outputs": [],
   "source": [
    "header = ['Name', 'Department', 'Salary']\n",
    "data = [['Stephen', 'Sales', 4000],['Davis', 'Admin', '3000'],['Ricky', 'Business', 5000]]\n",
    "\n",
    "with open('abc_ltd.csv', mode='w', newline='') as csv_file:\n",
    "    csv_writer = csv.writer(csv_file)\n",
    "    csv_writer.writerow(header)\n",
    "    csv_writer.writerow(['Kyaw Kyaw', 'Accounting', 3000])\n",
    "    csv_writer.writerows(data)"
   ]
  },
  {
   "cell_type": "code",
   "execution_count": 9,
   "metadata": {},
   "outputs": [],
   "source": [
    "more_data = [['Alex', 'Sales', 4000],['Bruno', 'Admin', '3000'],['Cathrine', 'Business', 5000]]\n",
    "\n",
    "with open('abc_ltd.csv', mode='a', newline='') as csv_file:\n",
    "    csv_writer = csv.writer(csv_file)\n",
    "    csv_writer.writerows(more_data)"
   ]
  },
  {
   "cell_type": "code",
   "execution_count": 10,
   "metadata": {},
   "outputs": [],
   "source": [
    "heading = ['Name', 'Department', 'Salary']\n",
    "\n",
    "with open('dict_format.csv', mode='w', newline='') as csv_file:\n",
    "    csv_writer = csv.DictWriter(csv_file, fieldnames=heading)\n",
    "    csv_writer.writeheader()\n",
    "    csv_writer.writerow({'Name' : 'Koe Koe', 'Department' : 'R&D', 'Salary' : 15000})\n",
    "    csv_writer.writerow({'Name' : 'Andy William', 'Department' : 'Data Science', 'Salary' : 25000})"
   ]
  },
  {
   "cell_type": "code",
   "execution_count": null,
   "metadata": {},
   "outputs": [],
   "source": []
  }
 ],
 "metadata": {
  "kernelspec": {
   "display_name": "Python 3",
   "language": "python",
   "name": "python3"
  },
  "language_info": {
   "codemirror_mode": {
    "name": "ipython",
    "version": 3
   },
   "file_extension": ".py",
   "mimetype": "text/x-python",
   "name": "python",
   "nbconvert_exporter": "python",
   "pygments_lexer": "ipython3",
   "version": "3.8.10"
  }
 },
 "nbformat": 4,
 "nbformat_minor": 4
}
