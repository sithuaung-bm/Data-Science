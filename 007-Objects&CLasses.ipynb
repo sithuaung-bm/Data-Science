{
 "cells": [
  {
   "cell_type": "code",
   "execution_count": 1,
   "metadata": {},
   "outputs": [
    {
     "name": "stdout",
     "output_type": "stream",
     "text": [
      "<__main__.Car object at 0x7f0dc02309d0>\n"
     ]
    }
   ],
   "source": [
    "class Car:\n",
    "    brand = 'Toyota'\n",
    "    def drive(self):\n",
    "        print(self.brand, 'car is driving')\n",
    "my_new_car = Car()\n",
    "print(my_new_car)"
   ]
  },
  {
   "cell_type": "code",
   "execution_count": 2,
   "metadata": {},
   "outputs": [
    {
     "name": "stdout",
     "output_type": "stream",
     "text": [
      "Toyota car is driving\n"
     ]
    }
   ],
   "source": [
    "my_new_car.drive()"
   ]
  },
  {
   "cell_type": "code",
   "execution_count": 3,
   "metadata": {},
   "outputs": [
    {
     "name": "stdout",
     "output_type": "stream",
     "text": [
      "Toyota\n"
     ]
    }
   ],
   "source": [
    "print(my_new_car.brand)"
   ]
  },
  {
   "cell_type": "code",
   "execution_count": 5,
   "metadata": {},
   "outputs": [
    {
     "name": "stdout",
     "output_type": "stream",
     "text": [
      "Toyota car is driving\n"
     ]
    }
   ],
   "source": [
    "class Car:\n",
    "    def drive(self):\n",
    "        print(self.brand, 'car is driving')\n",
    "    def get_speed(self):\n",
    "        print(self.speed, 'is my top-speed')\n",
    "    def get_gear(self):\n",
    "        print(self.gear, 'gear')\n",
    "my_new_car = Car()\n",
    "my_new_car.brand = 'Toyota'\n",
    "my_new_car.drive()"
   ]
  },
  {
   "cell_type": "code",
   "execution_count": 6,
   "metadata": {},
   "outputs": [
    {
     "name": "stdout",
     "output_type": "stream",
     "text": [
      "Toyota car is driving\n"
     ]
    }
   ],
   "source": [
    "toyota = Car()\n",
    "toyota.brand = 'Toyota'\n",
    "toyota.speed = 150\n",
    "toyota.gear = 'Auto'\n",
    "toyota.drive()"
   ]
  },
  {
   "cell_type": "code",
   "execution_count": 7,
   "metadata": {},
   "outputs": [
    {
     "name": "stdout",
     "output_type": "stream",
     "text": [
      "150 is my top-speed\n"
     ]
    }
   ],
   "source": [
    "toyota.get_speed()"
   ]
  },
  {
   "cell_type": "code",
   "execution_count": 12,
   "metadata": {},
   "outputs": [
    {
     "name": "stdout",
     "output_type": "stream",
     "text": [
      "Auto is my top gear\n"
     ]
    }
   ],
   "source": [
    "toyota.get_gear()"
   ]
  },
  {
   "cell_type": "code",
   "execution_count": 13,
   "metadata": {},
   "outputs": [
    {
     "name": "stdout",
     "output_type": "stream",
     "text": [
      "Auto is my top gear\n"
     ]
    }
   ],
   "source": [
    "toyota.get_gear()"
   ]
  },
  {
   "cell_type": "code",
   "execution_count": 14,
   "metadata": {},
   "outputs": [
    {
     "name": "stdout",
     "output_type": "stream",
     "text": [
      "BMW car is driving\n"
     ]
    }
   ],
   "source": [
    "BMW = Car()\n",
    "BMW.brand = 'BMW'\n",
    "BMW.speed = 180\n",
    "BMW.gear = 'Auto'\n",
    "BMW.drive()"
   ]
  },
  {
   "cell_type": "code",
   "execution_count": 15,
   "metadata": {},
   "outputs": [
    {
     "name": "stdout",
     "output_type": "stream",
     "text": [
      "HONDA car is driving\n"
     ]
    }
   ],
   "source": [
    "honda = Car()\n",
    "honda.brand = 'HONDA'\n",
    "honda.speed = 180\n",
    "honda.gear = 'Auto'\n",
    "honda.drive()"
   ]
  },
  {
   "cell_type": "code",
   "execution_count": 25,
   "metadata": {},
   "outputs": [
    {
     "name": "stdout",
     "output_type": "stream",
     "text": [
      "I made a new car Nissan White 140 Auto\n"
     ]
    }
   ],
   "source": [
    "class SuperCar:\n",
    "    def __init__(self, brand, color, speed, gear):\n",
    "        self.brand = brand\n",
    "        self.color = color\n",
    "        self.speed = speed\n",
    "        self.gear  = gear\n",
    "\n",
    "    def make_car(self):\n",
    "        print ('I made a new car', self.brand, self.color, self.speed, self.gear)\n",
    "    \n",
    "    def get_speed(self):\n",
    "        print(self.speed, 'is my top-speed')\n",
    "    \n",
    "    def get_gear(self):\n",
    "        print(self.gear, 'gear')\n",
    "    \n",
    "nissan = SuperCar('Nissan', 'White', 140, 'Auto')\n",
    "nissan.make_car()"
   ]
  },
  {
   "cell_type": "code",
   "execution_count": 26,
   "metadata": {},
   "outputs": [
    {
     "name": "stdout",
     "output_type": "stream",
     "text": [
      "<__main__.SuperCar object at 0x7f0dc015f820>\n",
      "<__main__.SuperCar object at 0x7f0dc015f9d0>\n"
     ]
    }
   ],
   "source": [
    "bmw = SuperCar('BMW', 'Black', '200', 'Manual')\n",
    "honda = SuperCar('Honda', 'Red', '130', 'Auto')\n",
    "print(bmw)\n",
    "print(honda)"
   ]
  },
  {
   "cell_type": "code",
   "execution_count": 27,
   "metadata": {},
   "outputs": [
    {
     "name": "stdout",
     "output_type": "stream",
     "text": [
      "I made a new car BMW Black 200 Manual\n"
     ]
    }
   ],
   "source": [
    "bmw.make_car()"
   ]
  },
  {
   "cell_type": "code",
   "execution_count": 28,
   "metadata": {},
   "outputs": [
    {
     "name": "stdout",
     "output_type": "stream",
     "text": [
      "I made a new car Honda Red 130 Auto\n"
     ]
    }
   ],
   "source": [
    "honda.make_car()"
   ]
  },
  {
   "cell_type": "code",
   "execution_count": 29,
   "metadata": {},
   "outputs": [
    {
     "name": "stdout",
     "output_type": "stream",
     "text": [
      "140 is my top-speed\n"
     ]
    }
   ],
   "source": [
    "nissan.get_speed()"
   ]
  },
  {
   "cell_type": "code",
   "execution_count": 30,
   "metadata": {},
   "outputs": [
    {
     "name": "stdout",
     "output_type": "stream",
     "text": [
      "200 is my top-speed\n"
     ]
    }
   ],
   "source": [
    "bmw.get_speed()"
   ]
  },
  {
   "cell_type": "code",
   "execution_count": 31,
   "metadata": {},
   "outputs": [
    {
     "name": "stdout",
     "output_type": "stream",
     "text": [
      "Black\n"
     ]
    }
   ],
   "source": [
    "print(bmw.color)"
   ]
  },
  {
   "cell_type": "code",
   "execution_count": 32,
   "metadata": {},
   "outputs": [
    {
     "name": "stdout",
     "output_type": "stream",
     "text": [
      "Red\n"
     ]
    }
   ],
   "source": [
    "print(honda.color)"
   ]
  },
  {
   "cell_type": "code",
   "execution_count": null,
   "metadata": {},
   "outputs": [],
   "source": []
  }
 ],
 "metadata": {
  "kernelspec": {
   "display_name": "Python 3",
   "language": "python",
   "name": "python3"
  },
  "language_info": {
   "codemirror_mode": {
    "name": "ipython",
    "version": 3
   },
   "file_extension": ".py",
   "mimetype": "text/x-python",
   "name": "python",
   "nbconvert_exporter": "python",
   "pygments_lexer": "ipython3",
   "version": "3.8.10"
  }
 },
 "nbformat": 4,
 "nbformat_minor": 4
}
